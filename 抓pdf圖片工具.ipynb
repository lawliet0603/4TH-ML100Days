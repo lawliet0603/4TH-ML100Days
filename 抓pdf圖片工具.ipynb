{
 "cells": [
  {
   "cell_type": "code",
   "execution_count": 32,
   "metadata": {},
   "outputs": [
    {
     "name": "stdout",
     "output_type": "stream",
     "text": [
      "文件夾已存在，請重新創建新文件夾！\n"
     ]
    },
    {
     "ename": "SystemExit",
     "evalue": "",
     "output_type": "error",
     "traceback": [
      "An exception has occurred, use %tb to see the full traceback.\n",
      "\u001b[1;31mSystemExit\u001b[0m\n"
     ]
    }
   ],
   "source": [
    "import fitz  # pip3 install pymupdf\n",
    "import time\n",
    "import re\n",
    "import os\n",
    "\n",
    "\n",
    "def get_image(path, pic_path):\n",
    "    '''從pdf中提取圖片\n",
    "    :param path: pdf的路徑\n",
    "    :param pic_path: 圖片保存的路徑\n",
    "    :return: 無return\n",
    "    '''\n",
    "    t0 = time.clock()\n",
    "    # 00、使用正則表達式查找PDF中的圖片\n",
    "    checkXO = r\"/Type(?= */XObject)\"\n",
    "    checkIM = r\"/Subtype(?= */Image)\"\n",
    "\n",
    "    # 一、打開pdf，打印PDF的相關信息\n",
    "    doc = fitz.open(path)\n",
    "    # 圖片計數\n",
    "    imgcount = 0\n",
    "    lenXREF = doc._getXrefLength()\n",
    "\n",
    "    # 打印PDF的信息\n",
    "    print(\"文件名:{}, 頁數: {}, 對象: {}\".format(path, len(doc), lenXREF - 1))\n",
    "\n",
    "    # 二、遍歷PDF中的對象，遇到是圖像才進行下一步，不然就continue\n",
    "    for i in range(1, lenXREF):\n",
    "        # 定義對象字符串\n",
    "        # text = doc._getObjectString(i)\n",
    "        text = doc._getXrefString(i)\n",
    "        # print(text)\n",
    "        # continue\n",
    "        isXObject = re.search(checkXO, text)\n",
    "        # 使用正則表達式查看是否是圖片\n",
    "        isImage = re.search(checkIM, text)\n",
    "        # 如果不是對象也不是圖片，則continue\n",
    "        if not isXObject or not isImage:\n",
    "            print(\"不是圖片\")\n",
    "            continue\n",
    "        imgcount += 1\n",
    "        # 根據索引生成圖像\n",
    "        pix = fitz.Pixmap(doc, i)\n",
    "        # 根據pdf的路徑生成圖片的名稱\n",
    "        new_name = path.replace('\\\\', '_') + \"_img{}.png\".format(imgcount)\n",
    "        new_name = new_name.replace(':', '')\n",
    "\n",
    "        # 三、將圖像存爲png格式\n",
    "        # 如果pix.n<5,可以直接存爲PNG\n",
    "        if pix.n < 5:\n",
    "            pix.writePNG(os.path.join(pic_path, new_name))\n",
    "        # 否則先轉換CMYK\n",
    "        else:\n",
    "            pix0 = fitz.Pixmap(fitz.csRGB, pix)\n",
    "            pix0.writePNG(os.path.join(pic_path, new_name))\n",
    "            pix0 = None\n",
    "        # 釋放資源\n",
    "        pix = None\n",
    "    t1 = time.clock()\n",
    "    print(\"運行時間:{}s\".format(t1 - t0))\n",
    "    print(\"提取了{}張圖片\".format(imgcount))\n",
    "\n",
    "\n",
    "# 運行\n",
    "if __name__=='__main__':\n",
    "    # pdf路徑\n",
    "    path = r\"C:\\Users\\ctkri\\Desktop\\DAFRAM\\DAFRAM spa_2020 rev 00.pdf\"  # 更改路徑可使用\n",
    "    pic_path = r\"C:\\Users\\ctkri\\Desktop\\DAFRAM\\DAFRAM\"\n",
    "    # 創建保存圖片的文件夾\n",
    "    if os.path.exists(pic_path):\n",
    "        print(\"文件夾已存在，請重新創建新文件夾！\")\n",
    "        raise SystemExit\n",
    "    else:\n",
    "        os.mkdir(pic_path)\n",
    "    get_image(path, pic_path)"
   ]
  },
  {
   "cell_type": "code",
   "execution_count": null,
   "metadata": {},
   "outputs": [],
   "source": []
  }
 ],
 "metadata": {
  "kernelspec": {
   "display_name": "Python 3",
   "language": "python",
   "name": "python3"
  },
  "language_info": {
   "codemirror_mode": {
    "name": "ipython",
    "version": 3
   },
   "file_extension": ".py",
   "mimetype": "text/x-python",
   "name": "python",
   "nbconvert_exporter": "python",
   "pygments_lexer": "ipython3",
   "version": "3.6.6"
  }
 },
 "nbformat": 4,
 "nbformat_minor": 2
}
